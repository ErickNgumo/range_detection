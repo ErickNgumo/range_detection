{
 "cells": [
  {
   "cell_type": "code",
   "execution_count": 9,
   "id": "7441bcef",
   "metadata": {},
   "outputs": [
    {
     "ename": "ImportError",
     "evalue": "cannot import name 'INTERVAL_MINUTE_1' from 'dukascopy_python' (c:\\Users\\Ngumo\\AppData\\Local\\Programs\\Python\\Python313\\Lib\\site-packages\\dukascopy_python\\__init__.py)",
     "output_type": "error",
     "traceback": [
      "\u001b[31m---------------------------------------------------------------------------\u001b[39m",
      "\u001b[31mImportError\u001b[39m                               Traceback (most recent call last)",
      "\u001b[36mCell\u001b[39m\u001b[36m \u001b[39m\u001b[32mIn[9]\u001b[39m\u001b[32m, line 4\u001b[39m\n\u001b[32m      2\u001b[39m \u001b[38;5;28;01mimport\u001b[39;00m\u001b[38;5;250m \u001b[39m\u001b[34;01mdukascopy_python\u001b[39;00m\n\u001b[32m      3\u001b[39m \u001b[38;5;28;01mfrom\u001b[39;00m\u001b[38;5;250m \u001b[39m\u001b[34;01mdukascopy_python\u001b[39;00m\u001b[34;01m.\u001b[39;00m\u001b[34;01minstruments\u001b[39;00m\u001b[38;5;250m \u001b[39m\u001b[38;5;28;01mimport\u001b[39;00m INSTRUMENT_FX_MAJORS_EUR_USD\n\u001b[32m----> \u001b[39m\u001b[32m4\u001b[39m \u001b[38;5;28;01mfrom\u001b[39;00m\u001b[38;5;250m \u001b[39m\u001b[34;01mdukascopy_python\u001b[39;00m\u001b[38;5;250m \u001b[39m\u001b[38;5;28;01mimport\u001b[39;00m INTERVAL_MINUTE_1, INTERVAL_MINUTE_5, INTERVAL_MINUTE_15, INTERVAL_HOUR_1, OFFER_SIDE_BID\n\u001b[32m      5\u001b[39m \u001b[38;5;28;01mimport\u001b[39;00m\u001b[38;5;250m \u001b[39m\u001b[34;01mos\u001b[39;00m\n\u001b[32m      7\u001b[39m \u001b[38;5;66;03m# ------------------------------\u001b[39;00m\n\u001b[32m      8\u001b[39m \u001b[38;5;66;03m# Settings\u001b[39;00m\n\u001b[32m      9\u001b[39m \u001b[38;5;66;03m# ------------------------------\u001b[39;00m\n",
      "\u001b[31mImportError\u001b[39m: cannot import name 'INTERVAL_MINUTE_1' from 'dukascopy_python' (c:\\Users\\Ngumo\\AppData\\Local\\Programs\\Python\\Python313\\Lib\\site-packages\\dukascopy_python\\__init__.py)"
     ]
    }
   ],
   "source": [
    "from datetime import datetime\n",
    "import dukascopy_python\n",
    "from dukascopy_python.instruments import INSTRUMENT_FX_MAJORS_EUR_USD\n",
    "from dukascopy_python import INTERVAL_MINUTE_1, INTERVAL_MINUTE_5, INTERVAL_MINUTE_15, INTERVAL_HOUR_1, OFFER_SIDE_BID\n",
    "import os\n",
    "\n",
    "# ------------------------------\n",
    "# Settings\n",
    "# ------------------------------\n",
    "symbols = {\n",
    "    \"EURUSD\": INSTRUMENT_FX_MAJORS_EUR_USD\n",
    "}\n",
    "\n",
    "intervals = {\n",
    "    # \"1m\": INTERVAL_MINUTE_1,\n",
    "    \"5m\": INTERVAL_MINUTE_5,\n",
    "    \"15m\": INTERVAL_MINUTE_15,\n",
    "    \"1h\": INTERVAL_HOUR_1\n",
    "}\n",
    "\n",
    "start_date = datetime(2022, 1, 1)\n",
    "end_date = datetime(2024, 12, 31)\n",
    "save_dir = \"data/\"\n",
    "os.makedirs(save_dir, exist_ok=True)\n",
    "\n",
    "# ------------------------------\n",
    "# Fetch and save data\n",
    "# ------------------------------\n",
    "for tf_name, tf_interval in intervals.items():\n",
    "        print(f\"Fetching {name} {tf_name}...\")\n",
    "        try:\n",
    "            df = dukascopy_python.fetch(\n",
    "                instrument=instrument,\n",
    "                interval=tf_interval,\n",
    "                offer_side=OFFER_SIDE_BID,\n",
    "                start=start_date,\n",
    "                end=end_date\n",
    "            )\n",
    "            # Save to CSV\n",
    "            filename = f\"{save_dir}{name}_{tf_name}.csv\"\n",
    "            df.to_csv(filename)\n",
    "            print(f\"Saved {filename} ({len(df)} rows)\")\n",
    "        except Exception as e:\n",
    "            print(f\"Error fetching {name} {tf_name}: {e}\")\n"
   ]
  }
 ],
 "metadata": {
  "kernelspec": {
   "display_name": "Python 3",
   "language": "python",
   "name": "python3"
  },
  "language_info": {
   "codemirror_mode": {
    "name": "ipython",
    "version": 3
   },
   "file_extension": ".py",
   "mimetype": "text/x-python",
   "name": "python",
   "nbconvert_exporter": "python",
   "pygments_lexer": "ipython3",
   "version": "3.13.1"
  }
 },
 "nbformat": 4,
 "nbformat_minor": 5
}
